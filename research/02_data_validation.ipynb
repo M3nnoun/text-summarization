{
 "cells": [
  {
   "cell_type": "code",
   "execution_count": null,
   "id": "038ffff7",
   "metadata": {},
   "outputs": [
    {
     "ename": "",
     "evalue": "",
     "output_type": "error",
     "traceback": [
      "\u001b[1;31mRunning cells with 'Python 3.13.0' requires the ipykernel package.\n",
      "\u001b[1;31m<a href='command:jupyter.createPythonEnvAndSelectController'>Create a Python Environment</a> with the required packages.\n",
      "\u001b[1;31mOr install 'ipykernel' using the command: 'c:/Users/ThinkPad/AppData/Local/Programs/Python/Python313/python.exe -m pip install ipykernel -U --user --force-reinstall'"
     ]
    }
   ],
   "source": [
    "from dataclasses import dataclass\n",
    "from pathlib import Path\n",
    "\n",
    "@dataclass(frozen=True)\n",
    "class DataValidationConfig:\n",
    "    root_dir: Path\n",
    "    status_file: Path\n",
    "    ALL_REQUIRED_FILES: list[str]"
   ]
  },
  {
   "cell_type": "code",
   "execution_count": null,
   "id": "f73b018c",
   "metadata": {},
   "outputs": [],
   "source": [
    "from src.constants import *\n",
    "from src.utils.common import read_yaml, create_directories\n",
    "\n",
    "\n",
    "class ConfigurationManager:\n",
    "    def __init__(\n",
    "        self,\n",
    "        config_filepath = CONFIG_FILE_PATH,\n",
    "        params_filepath = PARAMS_FILE_PATH):\n",
    "\n",
    "        self.config = read_yaml(config_filepath)\n",
    "        self.params = read_yaml(params_filepath)\n",
    "        \n",
    "        create_directories([Path(self.config.artifacts_root)])\n",
    "\n",
    "    \n",
    "\n",
    "    def get_data_validation_config(self) -> DataValidationConfig:\n",
    "        config = self.config.data_ingestion\n",
    "\n",
    "        create_directories([Path(config.root_dir)])\n",
    "\n",
    "        data_validation_config = DataValidationConfig(\n",
    "            root_dir=config.root_dir,\n",
    "            status_file=config.STATUS_FILE\n",
    "            ALL_REQUIRED_FILES: config.ALL_REQUIRED_FILES\n",
    "        )\n",
    "\n",
    "        return data_validation_config"
   ]
  },
  {
   "cell_type": "code",
   "execution_count": null,
   "id": "41a76476",
   "metadata": {},
   "outputs": [],
   "source": [
    "import os\n",
    "from src.logging import logger\n",
    "\n",
    "class DataValidation:\n",
    "    def __init__(self, config: DataValidationConfig):\n",
    "        self.config = config\n",
    "\n",
    "    ## validate all files are present, and add the value to the status file\n",
    "\n",
    "    def validate_all_files(self) -> bool:\n",
    "        try:\n",
    "            logger.info(\"Starting data validation\")\n",
    "            all_files_present = True\n",
    "            for file_name in self.config.ALL_REQUIRED_FILES:\n",
    "                file_path = os.path.join(self.config.root_dir, file_name)\n",
    "                if not os.path.exists(file_path):\n",
    "                    logger.error(f\"Required file {file_name} is missing.\")\n",
    "                    all_files_present = False\n",
    "                else:\n",
    "                    logger.info(f\"Required file {file_name} is present.\")\n",
    "            \n",
    "            with open(self.config.status_file, 'w') as status_file:\n",
    "                if all_files_present:\n",
    "                    status_file.write(\"Data Validation Successful: All required files are present.\\n\")\n",
    "                    logger.info(\"Data validation successful: All required files are present.\")\n",
    "                else:\n",
    "                    status_file.write(\"Data Validation Failed: Some required files are missing.\\n\")\n",
    "                    logger.error(\"Data validation failed: Some required files are missing.\")\n",
    "            \n",
    "            return all_files_present\n",
    "\n",
    "        except Exception as e:\n",
    "            logger.exception(f\"An error occurred during data validation: {e}\")\n",
    "            raise e"
   ]
  },
  {
   "cell_type": "code",
   "execution_count": null,
   "id": "3d6fc07e",
   "metadata": {},
   "outputs": [],
   "source": [
    "try:\n",
    "    config = ConfigurationManager()\n",
    "    data_validation_config = config.get_data_validation_config()\n",
    "    data_validation = DataValidation(config=data_validation_config)\n",
    "    data_validation.validate_all_files()    \n",
    "except Exception as e:\n",
    "    raise e"
   ]
  }
 ],
 "metadata": {
  "kernelspec": {
   "display_name": "Python 3",
   "language": "python",
   "name": "python3"
  },
  "language_info": {
   "name": "python",
   "version": "3.13.0"
  }
 },
 "nbformat": 4,
 "nbformat_minor": 5
}
